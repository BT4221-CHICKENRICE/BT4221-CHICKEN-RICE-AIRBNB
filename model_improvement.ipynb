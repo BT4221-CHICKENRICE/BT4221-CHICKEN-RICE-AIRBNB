{
  "nbformat": 4,
  "nbformat_minor": 0,
  "metadata": {
    "colab": {
      "name": "model_improvement.ipynb",
      "version": "0.3.2",
      "provenance": [],
      "collapsed_sections": []
    },
    "kernelspec": {
      "display_name": "Python 3",
      "language": "python",
      "name": "python3"
    }
  },
  "cells": [
    {
      "metadata": {
        "id": "bhvwwGg1D_kn",
        "colab_type": "code",
        "colab": {}
      },
      "cell_type": "code",
      "source": [
        "from io import StringIO\n",
        "from urllib import request\n",
        "import matplotlib.pyplot as plt\n",
        "from mpl_toolkits.mplot3d import Axes3D\n",
        "from matplotlib import cm\n",
        "import ssl\n",
        "import pandas as pd\n",
        "import numpy as np\n",
        "import io"
      ],
      "execution_count": 0,
      "outputs": []
    },
    {
      "metadata": {
        "id": "OoQHa0c-bmZp",
        "colab_type": "code",
        "outputId": "55c5ccc0-7e44-44e0-f9d8-e64bc3352c38",
        "colab": {
          "resources": {
            "http://localhost:8080/nbextensions/google.colab/files.js": {
              "data": "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",
              "ok": true,
              "headers": [
                [
                  "content-type",
                  "application/javascript"
                ]
              ],
              "status": 200,
              "status_text": ""
            }
          },
          "base_uri": "https://localhost:8080/",
          "height": 78
        }
      },
      "cell_type": "code",
      "source": [
        "from google.colab import files\n",
        "uploaded = files.upload()"
      ],
      "execution_count": 5,
      "outputs": [
        {
          "output_type": "display_data",
          "data": {
            "text/html": [
              "\n",
              "     <input type=\"file\" id=\"files-8515e9d5-bfa7-433e-b962-7e6e3917d7fe\" name=\"files[]\" multiple disabled />\n",
              "     <output id=\"result-8515e9d5-bfa7-433e-b962-7e6e3917d7fe\">\n",
              "      Upload widget is only available when the cell has been executed in the\n",
              "      current browser session. Please rerun this cell to enable.\n",
              "      </output>\n",
              "      <script src=\"/nbextensions/google.colab/files.js\"></script> "
            ],
            "text/plain": [
              "<IPython.core.display.HTML object>"
            ]
          },
          "metadata": {
            "tags": []
          }
        },
        {
          "output_type": "stream",
          "text": [
            "Saving cross_sectional_full.csv to cross_sectional_full.csv\n"
          ],
          "name": "stdout"
        }
      ]
    },
    {
      "metadata": {
        "id": "uUor6c1AD_kt",
        "colab_type": "code",
        "colab": {}
      },
      "cell_type": "code",
      "source": [
        "df = pd.read_csv(io.StringIO(uploaded['cross_sectional_full.csv'].decode('utf-8')))"
      ],
      "execution_count": 0,
      "outputs": []
    },
    {
      "metadata": {
        "id": "JNjH7QSOD_kx",
        "colab_type": "code",
        "outputId": "51b7664c-6058-4889-da7c-65955163d786",
        "colab": {
          "base_uri": "https://localhost:8080/",
          "height": 207
        }
      },
      "cell_type": "code",
      "source": [
        "df.head(3)"
      ],
      "execution_count": 7,
      "outputs": [
        {
          "output_type": "execute_result",
          "data": {
            "text/html": [
              "<div>\n",
              "<style scoped>\n",
              "    .dataframe tbody tr th:only-of-type {\n",
              "        vertical-align: middle;\n",
              "    }\n",
              "\n",
              "    .dataframe tbody tr th {\n",
              "        vertical-align: top;\n",
              "    }\n",
              "\n",
              "    .dataframe thead th {\n",
              "        text-align: right;\n",
              "    }\n",
              "</style>\n",
              "<table border=\"1\" class=\"dataframe\">\n",
              "  <thead>\n",
              "    <tr style=\"text-align: right;\">\n",
              "      <th></th>\n",
              "      <th>Unnamed: 0</th>\n",
              "      <th>minimum_nights</th>\n",
              "      <th>number_of_reviews</th>\n",
              "      <th>reviews_per_month</th>\n",
              "      <th>calculated_host_listings_count</th>\n",
              "      <th>availability_365</th>\n",
              "      <th>nearby</th>\n",
              "      <th>accommodates</th>\n",
              "      <th>bathrooms</th>\n",
              "      <th>review_scores_rating</th>\n",
              "      <th>...</th>\n",
              "      <th>nearest_station_Dmnz</th>\n",
              "      <th>nearest_station_Dvd</th>\n",
              "      <th>nearest_station_Rai</th>\n",
              "      <th>nearest_station_Shl</th>\n",
              "      <th>nearest_station_Wp</th>\n",
              "      <th>Sentiment_highly_positive</th>\n",
              "      <th>Sentiment_negative</th>\n",
              "      <th>Sentiment_netural</th>\n",
              "      <th>Sentiment_positive</th>\n",
              "      <th>price</th>\n",
              "    </tr>\n",
              "  </thead>\n",
              "  <tbody>\n",
              "    <tr>\n",
              "      <th>0</th>\n",
              "      <td>11612</td>\n",
              "      <td>2</td>\n",
              "      <td>1</td>\n",
              "      <td>0.05</td>\n",
              "      <td>1</td>\n",
              "      <td>0</td>\n",
              "      <td>1.0</td>\n",
              "      <td>2.0</td>\n",
              "      <td>1.0</td>\n",
              "      <td>80.0</td>\n",
              "      <td>...</td>\n",
              "      <td>0</td>\n",
              "      <td>0</td>\n",
              "      <td>0</td>\n",
              "      <td>0</td>\n",
              "      <td>0</td>\n",
              "      <td>0</td>\n",
              "      <td>0</td>\n",
              "      <td>0</td>\n",
              "      <td>1</td>\n",
              "      <td>117</td>\n",
              "    </tr>\n",
              "    <tr>\n",
              "      <th>1</th>\n",
              "      <td>18305</td>\n",
              "      <td>3</td>\n",
              "      <td>6</td>\n",
              "      <td>2.57</td>\n",
              "      <td>1</td>\n",
              "      <td>9</td>\n",
              "      <td>4.0</td>\n",
              "      <td>2.0</td>\n",
              "      <td>1.0</td>\n",
              "      <td>100.0</td>\n",
              "      <td>...</td>\n",
              "      <td>1</td>\n",
              "      <td>0</td>\n",
              "      <td>0</td>\n",
              "      <td>0</td>\n",
              "      <td>0</td>\n",
              "      <td>0</td>\n",
              "      <td>0</td>\n",
              "      <td>0</td>\n",
              "      <td>1</td>\n",
              "      <td>115</td>\n",
              "    </tr>\n",
              "    <tr>\n",
              "      <th>2</th>\n",
              "      <td>18588</td>\n",
              "      <td>1</td>\n",
              "      <td>5</td>\n",
              "      <td>3.13</td>\n",
              "      <td>1</td>\n",
              "      <td>69</td>\n",
              "      <td>3.0</td>\n",
              "      <td>2.0</td>\n",
              "      <td>2.0</td>\n",
              "      <td>97.0</td>\n",
              "      <td>...</td>\n",
              "      <td>0</td>\n",
              "      <td>0</td>\n",
              "      <td>0</td>\n",
              "      <td>0</td>\n",
              "      <td>0</td>\n",
              "      <td>0</td>\n",
              "      <td>0</td>\n",
              "      <td>0</td>\n",
              "      <td>1</td>\n",
              "      <td>150</td>\n",
              "    </tr>\n",
              "  </tbody>\n",
              "</table>\n",
              "<p>3 rows × 83 columns</p>\n",
              "</div>"
            ],
            "text/plain": [
              "   Unnamed: 0  minimum_nights  number_of_reviews  reviews_per_month  \\\n",
              "0       11612               2                  1               0.05   \n",
              "1       18305               3                  6               2.57   \n",
              "2       18588               1                  5               3.13   \n",
              "\n",
              "   calculated_host_listings_count  availability_365  nearby  accommodates  \\\n",
              "0                               1                 0     1.0           2.0   \n",
              "1                               1                 9     4.0           2.0   \n",
              "2                               1                69     3.0           2.0   \n",
              "\n",
              "   bathrooms  review_scores_rating  ...    nearest_station_Dmnz  \\\n",
              "0        1.0                  80.0  ...                       0   \n",
              "1        1.0                 100.0  ...                       1   \n",
              "2        2.0                  97.0  ...                       0   \n",
              "\n",
              "   nearest_station_Dvd  nearest_station_Rai  nearest_station_Shl  \\\n",
              "0                    0                    0                    0   \n",
              "1                    0                    0                    0   \n",
              "2                    0                    0                    0   \n",
              "\n",
              "   nearest_station_Wp  Sentiment_highly_positive  Sentiment_negative  \\\n",
              "0                   0                          0                   0   \n",
              "1                   0                          0                   0   \n",
              "2                   0                          0                   0   \n",
              "\n",
              "   Sentiment_netural  Sentiment_positive  price  \n",
              "0                  0                   1    117  \n",
              "1                  0                   1    115  \n",
              "2                  0                   1    150  \n",
              "\n",
              "[3 rows x 83 columns]"
            ]
          },
          "metadata": {
            "tags": []
          },
          "execution_count": 7
        }
      ]
    },
    {
      "metadata": {
        "id": "UTEPuvam9y38",
        "colab_type": "code",
        "outputId": "96856860-b7a9-46ae-ec60-584bed5714fd",
        "colab": {
          "base_uri": "https://localhost:8080/",
          "height": 35
        }
      },
      "cell_type": "code",
      "source": [
        "df.shape"
      ],
      "execution_count": 8,
      "outputs": [
        {
          "output_type": "execute_result",
          "data": {
            "text/plain": [
              "(15541, 83)"
            ]
          },
          "metadata": {
            "tags": []
          },
          "execution_count": 8
        }
      ]
    },
    {
      "metadata": {
        "id": "muGSlppwO868",
        "colab_type": "code",
        "outputId": "b224fb5f-922b-42ca-a205-114f3ded590b",
        "colab": {
          "base_uri": "https://localhost:8080/",
          "height": 737
        }
      },
      "cell_type": "code",
      "source": [
        "df.columns"
      ],
      "execution_count": 9,
      "outputs": [
        {
          "output_type": "execute_result",
          "data": {
            "text/plain": [
              "Index(['Unnamed: 0', 'minimum_nights', 'number_of_reviews',\n",
              "       'reviews_per_month', 'calculated_host_listings_count',\n",
              "       'availability_365', 'nearby', 'accommodates', 'bathrooms',\n",
              "       'review_scores_rating', 'nearby_att', 'Afinnscore',\n",
              "       'neighbourhood_Bijlmer_Centrum', 'neighbourhood_Bijlmer_Oost',\n",
              "       'neighbourhood_Bos_en_Lommer', 'neighbourhood_Buitenveldert___Zuidas',\n",
              "       'neighbourhood_Centrum_Oost', 'neighbourhood_Centrum_West',\n",
              "       'neighbourhood_De_Aker___Nieuw_Sloten',\n",
              "       'neighbourhood_De_Baarsjes___Oud_West',\n",
              "       'neighbourhood_De_Pijp___Rivierenbuurt',\n",
              "       'neighbourhood_Gaasperdam___Driemond',\n",
              "       'neighbourhood_Geuzenveld___Slotermeer',\n",
              "       'neighbourhood_IJburg___Zeeburgereiland', 'neighbourhood_Noord_Oost',\n",
              "       'neighbourhood_Noord_West',\n",
              "       'neighbourhood_Oostelijk_Havengebied___Indische_Buurt',\n",
              "       'neighbourhood_Osdorp', 'neighbourhood_Oud_Noord',\n",
              "       'neighbourhood_Oud_Oost', 'neighbourhood_Slotervaart',\n",
              "       'neighbourhood_Watergraafsmeer', 'neighbourhood_Westerpark',\n",
              "       'room_type_Private_room', 'room_type_Shared_room',\n",
              "       'property_type_Aparthotel', 'property_type_Barn',\n",
              "       'property_type_Bed_and_breakfast', 'property_type_Boat',\n",
              "       'property_type_Boutique_hotel', 'property_type_Bungalow',\n",
              "       'property_type_Cabin', 'property_type_Campsite',\n",
              "       'property_type_Casa_particular_(Cuba)', 'property_type_Chalet',\n",
              "       'property_type_Condominium', 'property_type_Cottage',\n",
              "       'property_type_Dome_house', 'property_type_Earth_house',\n",
              "       'property_type_Guest_suite', 'property_type_Guesthouse',\n",
              "       'property_type_Hostel', 'property_type_Hotel', 'property_type_House',\n",
              "       'property_type_Houseboat', 'property_type_Loft',\n",
              "       'property_type_Nature_lodge', 'property_type_Other',\n",
              "       'property_type_Serviced_apartment', 'property_type_Tent',\n",
              "       'property_type_Tiny_house', 'property_type_Townhouse',\n",
              "       'property_type_Villa', 'nearest_station_Ac', 'nearest_station_Asa',\n",
              "       'nearest_station_Asb', 'nearest_station_Asd', 'nearest_station_Asdl',\n",
              "       'nearest_station_Asdm', 'nearest_station_Asdv', 'nearest_station_Asdz',\n",
              "       'nearest_station_Ass', 'nearest_station_Dmn', 'nearest_station_Dmnz',\n",
              "       'nearest_station_Dvd', 'nearest_station_Rai', 'nearest_station_Shl',\n",
              "       'nearest_station_Wp', 'Sentiment_highly_positive', 'Sentiment_negative',\n",
              "       'Sentiment_netural', 'Sentiment_positive', 'price'],\n",
              "      dtype='object')"
            ]
          },
          "metadata": {
            "tags": []
          },
          "execution_count": 9
        }
      ]
    },
    {
      "metadata": {
        "scrolled": true,
        "id": "pFDMh8zFD_k-",
        "colab_type": "code",
        "outputId": "d22b2e16-3bb4-4d73-d353-d87d7886df76",
        "colab": {
          "base_uri": "https://localhost:8080/",
          "height": 53
        }
      },
      "cell_type": "code",
      "source": [
        "df['minimum_nights'].isnull().value_counts()"
      ],
      "execution_count": 10,
      "outputs": [
        {
          "output_type": "execute_result",
          "data": {
            "text/plain": [
              "False    15541\n",
              "Name: minimum_nights, dtype: int64"
            ]
          },
          "metadata": {
            "tags": []
          },
          "execution_count": 10
        }
      ]
    },
    {
      "metadata": {
        "id": "hyah0KeTD_lC",
        "colab_type": "code",
        "outputId": "b82d7f4f-8d4d-4b4f-89a9-aaa36bbcbbd2",
        "colab": {
          "base_uri": "https://localhost:8080/",
          "height": 53
        }
      },
      "cell_type": "code",
      "source": [
        "df['nearby'].isnull().value_counts()"
      ],
      "execution_count": 11,
      "outputs": [
        {
          "output_type": "execute_result",
          "data": {
            "text/plain": [
              "False    15541\n",
              "Name: nearby, dtype: int64"
            ]
          },
          "metadata": {
            "tags": []
          },
          "execution_count": 11
        }
      ]
    },
    {
      "metadata": {
        "id": "SPKqJnAH7aRH",
        "colab_type": "code",
        "colab": {}
      },
      "cell_type": "code",
      "source": [
        "df['accommodates'] = df['accommodates'].dropna()"
      ],
      "execution_count": 0,
      "outputs": []
    },
    {
      "metadata": {
        "scrolled": false,
        "id": "N8Nw3edVD_lK",
        "colab_type": "code",
        "outputId": "b394ae5b-0ba8-4e57-989d-20b2b61d9f56",
        "colab": {
          "base_uri": "https://localhost:8080/",
          "height": 53
        }
      },
      "cell_type": "code",
      "source": [
        "df['reviews_per_month'].isnull().value_counts()"
      ],
      "execution_count": 14,
      "outputs": [
        {
          "output_type": "execute_result",
          "data": {
            "text/plain": [
              "False    15541\n",
              "Name: reviews_per_month, dtype: int64"
            ]
          },
          "metadata": {
            "tags": []
          },
          "execution_count": 14
        }
      ]
    },
    {
      "metadata": {
        "scrolled": true,
        "id": "-vHerFW-D_lZ",
        "colab_type": "code",
        "outputId": "0f6d9d6d-1fcb-4d9d-a117-707b10aa71d4",
        "colab": {
          "base_uri": "https://localhost:8080/",
          "height": 53
        }
      },
      "cell_type": "code",
      "source": [
        "df['calculated_host_listings_count'].isnull().value_counts()"
      ],
      "execution_count": 17,
      "outputs": [
        {
          "output_type": "execute_result",
          "data": {
            "text/plain": [
              "False    15541\n",
              "Name: calculated_host_listings_count, dtype: int64"
            ]
          },
          "metadata": {
            "tags": []
          },
          "execution_count": 17
        }
      ]
    },
    {
      "metadata": {
        "id": "0bV6P4gAD_le",
        "colab_type": "code",
        "outputId": "16f3b0f2-4c05-470d-aa93-72b6f69cdc88",
        "colab": {
          "base_uri": "https://localhost:8080/",
          "height": 53
        }
      },
      "cell_type": "code",
      "source": [
        "df['availability_365'].isnull().value_counts()"
      ],
      "execution_count": 18,
      "outputs": [
        {
          "output_type": "execute_result",
          "data": {
            "text/plain": [
              "False    15541\n",
              "Name: availability_365, dtype: int64"
            ]
          },
          "metadata": {
            "tags": []
          },
          "execution_count": 18
        }
      ]
    },
    {
      "metadata": {
        "id": "XNTkUdSL764r",
        "colab_type": "code",
        "colab": {}
      },
      "cell_type": "code",
      "source": [
        "df = df.dropna()"
      ],
      "execution_count": 0,
      "outputs": []
    },
    {
      "metadata": {
        "id": "KKFjCZGm8Fpa",
        "colab_type": "code",
        "outputId": "2295a20b-3db3-40d1-db6c-53d22328f607",
        "colab": {
          "base_uri": "https://localhost:8080/",
          "height": 35
        }
      },
      "cell_type": "code",
      "source": [
        "df.shape"
      ],
      "execution_count": 21,
      "outputs": [
        {
          "output_type": "execute_result",
          "data": {
            "text/plain": [
              "(15541, 83)"
            ]
          },
          "metadata": {
            "tags": []
          },
          "execution_count": 21
        }
      ]
    },
    {
      "metadata": {
        "id": "wGy8CMeqD_lt",
        "colab_type": "code",
        "colab": {}
      },
      "cell_type": "code",
      "source": [
        "#full features\n",
        "features = ['minimum_nights', 'number_of_reviews',\n",
        "       'reviews_per_month', 'calculated_host_listings_count',\n",
        "       'availability_365', 'nearby', 'accommodates', 'bathrooms',\n",
        "       'review_scores_rating', 'nearby_att', 'Afinnscore',\n",
        "       'neighbourhood_Bijlmer_Centrum', 'neighbourhood_Bijlmer_Oost',\n",
        "       'neighbourhood_Bos_en_Lommer', 'neighbourhood_Buitenveldert___Zuidas',\n",
        "       'neighbourhood_Centrum_Oost', 'neighbourhood_Centrum_West',\n",
        "       'neighbourhood_De_Aker___Nieuw_Sloten',\n",
        "       'neighbourhood_De_Baarsjes___Oud_West',\n",
        "       'neighbourhood_De_Pijp___Rivierenbuurt',\n",
        "       'neighbourhood_Gaasperdam___Driemond',\n",
        "       'neighbourhood_Geuzenveld___Slotermeer',\n",
        "       'neighbourhood_IJburg___Zeeburgereiland', 'neighbourhood_Noord_Oost',\n",
        "       'neighbourhood_Noord_West',\n",
        "       'neighbourhood_Oostelijk_Havengebied___Indische_Buurt',\n",
        "       'neighbourhood_Osdorp', 'neighbourhood_Oud_Noord',\n",
        "       'neighbourhood_Oud_Oost', 'neighbourhood_Slotervaart',\n",
        "       'neighbourhood_Watergraafsmeer', 'neighbourhood_Westerpark',\n",
        "       'room_type_Private_room', 'room_type_Shared_room',\n",
        "       'property_type_Aparthotel', 'property_type_Barn',\n",
        "       'property_type_Bed_and_breakfast', 'property_type_Boat',\n",
        "       'property_type_Boutique_hotel', 'property_type_Bungalow',\n",
        "       'property_type_Cabin', 'property_type_Campsite',\n",
        "       'property_type_Casa_particular_(Cuba)', 'property_type_Chalet',\n",
        "       'property_type_Condominium', 'property_type_Cottage',\n",
        "       'property_type_Dome_house', 'property_type_Earth_house',\n",
        "       'property_type_Guest_suite', 'property_type_Guesthouse',\n",
        "       'property_type_Hostel', 'property_type_Hotel', 'property_type_House',\n",
        "       'property_type_Houseboat', 'property_type_Loft',\n",
        "       'property_type_Nature_lodge', 'property_type_Other',\n",
        "       'property_type_Serviced_apartment', 'property_type_Tent',\n",
        "       'property_type_Tiny_house', 'property_type_Townhouse',\n",
        "       'property_type_Villa', 'nearest_station_Ac', 'nearest_station_Asa',\n",
        "       'nearest_station_Asb', 'nearest_station_Asd', 'nearest_station_Asdl',\n",
        "       'nearest_station_Asdm', 'nearest_station_Asdv', 'nearest_station_Asdz',\n",
        "       'nearest_station_Ass', 'nearest_station_Dmn', 'nearest_station_Dmnz',\n",
        "       'nearest_station_Dvd', 'nearest_station_Rai', 'nearest_station_Shl',\n",
        "       'nearest_station_Wp', 'Sentiment_highly_positive', 'Sentiment_negative',\n",
        "       'Sentiment_netural', 'Sentiment_positive']"
      ],
      "execution_count": 0,
      "outputs": []
    },
    {
      "metadata": {
        "id": "jP4YrvEommGK",
        "colab_type": "code",
        "colab": {}
      },
      "cell_type": "code",
      "source": [
        "#reduced features\n",
        "# features = ['minimum_nights', 'number_of_reviews',\n",
        "#        'calculated_host_listings_count', 'availability_365', 'accommodates',\n",
        "#        'bathrooms', 'nearby_att', 'Afinnscore', 'neighbourhood_Bos_en_Lommer',\n",
        "#        'neighbourhood_Buitenveldert___Zuidas',\n",
        "#        'neighbourhood_De_Aker___Nieuw_Sloten',\n",
        "#        'neighbourhood_Geuzenveld___Slotermeer',\n",
        "#        'neighbourhood_IJburg___Zeeburgereiland', 'neighbourhood_Noord_Oost',\n",
        "#        'neighbourhood_Noord_West',\n",
        "#        'neighbourhood_Oostelijk_Havengebied___Indische_Buurt',\n",
        "#        'neighbourhood_Osdorp', 'neighbourhood_Oud_Noord',\n",
        "#        'neighbourhood_Slotervaart', 'neighbourhood_Westerpark',\n",
        "#        'room_type_Private_room', 'room_type_Shared_room',\n",
        "#        'nearest_station_Asd']"
      ],
      "execution_count": 0,
      "outputs": []
    },
    {
      "metadata": {
        "id": "f2qcsZds6stu",
        "colab_type": "code",
        "outputId": "2e2e39bf-e8c2-46f8-c5f6-54b59772f1b1",
        "colab": {
          "base_uri": "https://localhost:8080/",
          "height": 35
        }
      },
      "cell_type": "code",
      "source": [
        "len(features)"
      ],
      "execution_count": 23,
      "outputs": [
        {
          "output_type": "execute_result",
          "data": {
            "text/plain": [
              "81"
            ]
          },
          "metadata": {
            "tags": []
          },
          "execution_count": 23
        }
      ]
    },
    {
      "metadata": {
        "id": "KWm8lxUeZijE",
        "colab_type": "code",
        "colab": {}
      },
      "cell_type": "code",
      "source": [
        "#training data without spilting train set and test data\n",
        "X = df\n",
        "y = df['price']"
      ],
      "execution_count": 0,
      "outputs": []
    },
    {
      "metadata": {
        "id": "pxlFOnDiXqNb",
        "colab_type": "code",
        "colab": {}
      },
      "cell_type": "code",
      "source": [
        "from sklearn.metrics import r2_score\n",
        "from sklearn.metrics import mean_squared_error\n",
        "from sklearn.metrics import mean_absolute_error"
      ],
      "execution_count": 0,
      "outputs": []
    },
    {
      "metadata": {
        "id": "H_gGgmscYK8u",
        "colab_type": "code",
        "colab": {}
      },
      "cell_type": "code",
      "source": [
        "def accuracy(y_ture,y_predicted):\n",
        "  errors = mean_absolute_error(y_ture,y_predicted)\n",
        "  mape = 100 * (errors / y_test)\n",
        "  # Calculate and display accuracy\n",
        "  accuracy = 100 - np.mean(mape)\n",
        "  print('Accuracy:', round(accuracy, 2), '%.')"
      ],
      "execution_count": 0,
      "outputs": []
    },
    {
      "metadata": {
        "id": "8C6SARDkYT1T",
        "colab_type": "code",
        "colab": {}
      },
      "cell_type": "code",
      "source": [
        "def rmse(y_predicted, y_true):\n",
        "  return np.sqrt(np.mean(np.square(y_predicted - y_true)))"
      ],
      "execution_count": 0,
      "outputs": []
    },
    {
      "metadata": {
        "id": "__RNGSiqD_lw",
        "colab_type": "code",
        "colab": {}
      },
      "cell_type": "code",
      "source": [
        "from sklearn.linear_model import LinearRegression"
      ],
      "execution_count": 0,
      "outputs": []
    },
    {
      "metadata": {
        "id": "k8B3w8umD_l0",
        "colab_type": "code",
        "outputId": "1732bd40-b6ce-4fe8-a51a-57361ac18773",
        "colab": {
          "base_uri": "https://localhost:8080/",
          "height": 53
        }
      },
      "cell_type": "code",
      "source": [
        "from sklearn.model_selection import train_test_split\n",
        "X_train, X_test, y_train, y_test = train_test_split(df.drop('price', axis=1),\n",
        "                                                    df['price'], \n",
        "                                                    test_size=0.2,\n",
        "                                                    random_state=1)\n",
        "print(X_train.shape)\n",
        "print(X_test.shape)"
      ],
      "execution_count": 26,
      "outputs": [
        {
          "output_type": "stream",
          "text": [
            "(12432, 82)\n",
            "(3109, 82)\n"
          ],
          "name": "stdout"
        }
      ]
    },
    {
      "metadata": {
        "id": "GFbxnwZbD_l7",
        "colab_type": "code",
        "outputId": "8fe47dc8-eda2-4a7c-a88c-4b1a5dd92ddd",
        "colab": {
          "base_uri": "https://localhost:8080/",
          "height": 53
        }
      },
      "cell_type": "code",
      "source": [
        "#Linear Regression\n",
        "#Out of sample\n",
        "lm = LinearRegression()\n",
        "lm.fit(X_train[features], y_train)"
      ],
      "execution_count": 27,
      "outputs": [
        {
          "output_type": "execute_result",
          "data": {
            "text/plain": [
              "LinearRegression(copy_X=True, fit_intercept=True, n_jobs=None,\n",
              "         normalize=False)"
            ]
          },
          "metadata": {
            "tags": []
          },
          "execution_count": 27
        }
      ]
    },
    {
      "metadata": {
        "id": "TEzc0vlqfS-5",
        "colab_type": "code",
        "outputId": "53388921-e4c5-4d90-da9e-0a384b0ddc69",
        "colab": {
          "base_uri": "https://localhost:8080/",
          "height": 53
        }
      },
      "cell_type": "code",
      "source": [
        "#In sample\n",
        "lm2 = LinearRegression()\n",
        "lm2.fit(X[features],y)"
      ],
      "execution_count": 29,
      "outputs": [
        {
          "output_type": "execute_result",
          "data": {
            "text/plain": [
              "LinearRegression(copy_X=True, fit_intercept=True, n_jobs=None,\n",
              "         normalize=False)"
            ]
          },
          "metadata": {
            "tags": []
          },
          "execution_count": 29
        }
      ]
    },
    {
      "metadata": {
        "id": "0kJOjAnyf0Ol",
        "colab_type": "code",
        "outputId": "1bcb497c-0972-4eb0-ec3e-58b9636ae1da",
        "colab": {
          "base_uri": "https://localhost:8080/",
          "height": 35
        }
      },
      "cell_type": "code",
      "source": [
        "#In sample r2 of Linear Regression\n",
        "r2_score(y, lm2.predict(X[features]))"
      ],
      "execution_count": 34,
      "outputs": [
        {
          "output_type": "execute_result",
          "data": {
            "text/plain": [
              "0.19714303804106914"
            ]
          },
          "metadata": {
            "tags": []
          },
          "execution_count": 34
        }
      ]
    },
    {
      "metadata": {
        "id": "YYMWhhy1gEjE",
        "colab_type": "code",
        "outputId": "bc65f401-be89-4b5c-a26e-ce85c88738a2",
        "colab": {
          "base_uri": "https://localhost:8080/",
          "height": 35
        }
      },
      "cell_type": "code",
      "source": [
        "#In sample rmse of Linear Regression\n",
        "rmse(lm2.predict(X[features]), y)"
      ],
      "execution_count": 35,
      "outputs": [
        {
          "output_type": "execute_result",
          "data": {
            "text/plain": [
              "125.16140562235768"
            ]
          },
          "metadata": {
            "tags": []
          },
          "execution_count": 35
        }
      ]
    },
    {
      "metadata": {
        "id": "U2f8aIMxSFVZ",
        "colab_type": "code",
        "outputId": "075db436-315d-439e-88e5-a42b91dcc573",
        "colab": {
          "base_uri": "https://localhost:8080/",
          "height": 35
        }
      },
      "cell_type": "code",
      "source": [
        "#Out of sample r2 of Linear Regression\n",
        "r2_score(y_test, lm.predict(X_test[features]))"
      ],
      "execution_count": 36,
      "outputs": [
        {
          "output_type": "execute_result",
          "data": {
            "text/plain": [
              "0.2002029418845641"
            ]
          },
          "metadata": {
            "tags": []
          },
          "execution_count": 36
        }
      ]
    },
    {
      "metadata": {
        "id": "Gxl4sPcXD_mE",
        "colab_type": "code",
        "outputId": "d56c08b2-ba65-45a3-c437-93ce9825751d",
        "colab": {
          "base_uri": "https://localhost:8080/",
          "height": 35
        }
      },
      "cell_type": "code",
      "source": [
        "#Out of sample rmse of Linear Regression\n",
        "rmse_training = rmse(lm.predict(X_train[features]), y_train)\n",
        "rmse_testing = rmse(lm.predict(X_test[features]), y_test)\n",
        "\n",
        "print(\"training rmse: {}, testing rmse: {}\".format(rmse_training, rmse_testing))"
      ],
      "execution_count": 37,
      "outputs": [
        {
          "output_type": "stream",
          "text": [
            "training rmse: 123.62880161531437, testing rmse: 132.20887557871202\n"
          ],
          "name": "stdout"
        }
      ]
    },
    {
      "metadata": {
        "id": "MJn_Ncb4D_mI",
        "colab_type": "code",
        "colab": {}
      },
      "cell_type": "code",
      "source": [
        "coef = lm.coef_"
      ],
      "execution_count": 0,
      "outputs": []
    },
    {
      "metadata": {
        "id": "6H70nh0teryn",
        "colab_type": "code",
        "outputId": "ef04b5a7-d296-4e7f-c66c-fa746e6a0fc2",
        "colab": {
          "base_uri": "https://localhost:8080/",
          "height": 35
        }
      },
      "cell_type": "code",
      "source": [
        "#Out of sample MAE of Linear Regression\n",
        "mean_absolute_error(y_test, lm.predict(X_test[features]))"
      ],
      "execution_count": 42,
      "outputs": [
        {
          "output_type": "execute_result",
          "data": {
            "text/plain": [
              "43.32630781909499"
            ]
          },
          "metadata": {
            "tags": []
          },
          "execution_count": 42
        }
      ]
    },
    {
      "metadata": {
        "id": "JhlMPvOFfFzg",
        "colab_type": "code",
        "outputId": "8f63563d-edbb-479d-f600-94067e217096",
        "colab": {
          "base_uri": "https://localhost:8080/",
          "height": 35
        }
      },
      "cell_type": "code",
      "source": [
        "#Out of sample accuracy of Linear Regression\n",
        "accuracy(y_test, lm.predict(X_test[features]))"
      ],
      "execution_count": 43,
      "outputs": [
        {
          "output_type": "stream",
          "text": [
            "Accuracy: 62.48 %.\n"
          ],
          "name": "stdout"
        }
      ]
    },
    {
      "metadata": {
        "id": "UgXN2MTOD_mO",
        "colab_type": "code",
        "outputId": "b449ee73-dcf7-4290-edb1-d9e23c554c45",
        "colab": {
          "base_uri": "https://localhost:8080/",
          "height": 395
        }
      },
      "cell_type": "code",
      "source": [
        "print(coef)"
      ],
      "execution_count": 44,
      "outputs": [
        {
          "output_type": "stream",
          "text": [
            "[ 3.98977594e-01 -1.75088348e-01 -7.78863563e-01 -1.34811000e-01\n",
            "  2.09718264e-01 -3.82176350e+00  2.73907207e+01  3.76566635e+01\n",
            "  2.02741092e-01  5.10336391e+00  1.06526007e+00  2.32765707e+01\n",
            " -1.54014380e+01 -1.28893269e+01 -3.35458217e+01 -1.83682516e+00\n",
            " -1.09826595e+01 -3.41986637e+01 -3.88274931e+00  3.64592284e+00\n",
            " -9.19675868e+00 -2.58040245e+01 -3.48113888e+01 -5.48538435e+01\n",
            " -4.88837614e+01 -1.53401729e+01 -3.16079015e+01 -4.03779517e+01\n",
            "  9.52113655e-01 -1.47946308e+01 -1.47128278e+01 -1.58633589e+01\n",
            " -4.37765047e+01 -6.01109936e+01 -1.38887222e+01  2.17343830e+02\n",
            " -6.36335752e+00  1.52697320e+01  4.54511519e+01 -5.28533983e+01\n",
            "  1.22287385e+01 -1.54797255e+01 -7.19787553e+01 -2.14738708e+01\n",
            "  1.19776689e-01  3.19002443e+01  2.00879862e+01 -4.14469148e+01\n",
            " -3.34852013e+00  1.72376067e+01 -8.09329574e+01 -1.67753496e+01\n",
            "  1.07611543e+01  4.62298580e+01  3.11246424e+01 -1.43818717e+01\n",
            " -7.55204302e+00  3.29335144e+01  9.94759830e-14  1.14635600e+00\n",
            "  1.92909652e+01  4.45807446e+01 -3.02315538e+01  1.47043918e+01\n",
            " -3.11100415e+01  2.23958270e+01  6.36826767e+00  1.02355541e+01\n",
            "  1.15858622e+01  2.69858142e+01  4.14161132e+00  7.60503899e+00\n",
            " -9.43713413e+00 -3.10574094e+01  2.44355813e+01 -5.68434189e-14\n",
            " -2.66218096e+01 -5.48073776e+01 -4.74547611e+01 -6.57110714e+01\n",
            " -6.61154957e+01]\n"
          ],
          "name": "stdout"
        }
      ]
    },
    {
      "metadata": {
        "id": "NhWfkAlVeYDo",
        "colab_type": "code",
        "outputId": "5ed4823f-8a35-41c5-87f4-e3bd5c1feabe",
        "colab": {
          "base_uri": "https://localhost:8080/",
          "height": 145
        }
      },
      "cell_type": "code",
      "source": [
        "from sklearn import preprocessing\n",
        "scaler = preprocessing.StandardScaler().fit(X_train[features])\n",
        "X_train_std = scaler.transform(X_train[features])\n",
        "X_test_std = scaler.transform(X_test[features])"
      ],
      "execution_count": 45,
      "outputs": [
        {
          "output_type": "stream",
          "text": [
            "/usr/local/lib/python3.6/dist-packages/sklearn/preprocessing/data.py:645: DataConversionWarning: Data with input dtype int64, float64 were all converted to float64 by StandardScaler.\n",
            "  return self.partial_fit(X, y)\n",
            "/usr/local/lib/python3.6/dist-packages/ipykernel_launcher.py:3: DataConversionWarning: Data with input dtype int64, float64 were all converted to float64 by StandardScaler.\n",
            "  This is separate from the ipykernel package so we can avoid doing imports until\n",
            "/usr/local/lib/python3.6/dist-packages/ipykernel_launcher.py:4: DataConversionWarning: Data with input dtype int64, float64 were all converted to float64 by StandardScaler.\n",
            "  after removing the cwd from sys.path.\n"
          ],
          "name": "stderr"
        }
      ]
    },
    {
      "metadata": {
        "id": "K0Jn2VJhm_gs",
        "colab_type": "code",
        "outputId": "ac571db3-04a1-41a6-9ed4-c1515039d10b",
        "colab": {
          "base_uri": "https://localhost:8080/",
          "height": 251
        }
      },
      "cell_type": "code",
      "source": [
        "X_train_std"
      ],
      "execution_count": 46,
      "outputs": [
        {
          "output_type": "execute_result",
          "data": {
            "text/plain": [
              "array([[-0.15599764, -0.30583917, -0.17601928, ..., -0.09184814,\n",
              "        -0.10594804,  0.1617588 ],\n",
              "       [-0.15599764,  0.90707816,  0.90217624, ..., -0.09184814,\n",
              "        -0.10594804,  0.1617588 ],\n",
              "       [-0.08480747, -0.41413536, -0.50833981, ..., -0.09184814,\n",
              "        -0.10594804,  0.1617588 ],\n",
              "       ...,\n",
              "       [-0.08480747, -0.39247613, -0.52310961, ..., -0.09184814,\n",
              "        -0.10594804,  0.1617588 ],\n",
              "       [ 0.12876304, -0.4357946 , -0.3975663 , ..., -0.09184814,\n",
              "        -0.10594804,  0.1617588 ],\n",
              "       [-0.0136173 ,  1.16698902,  0.24492007, ..., -0.09184814,\n",
              "        -0.10594804,  0.1617588 ]])"
            ]
          },
          "metadata": {
            "tags": []
          },
          "execution_count": 46
        }
      ]
    },
    {
      "metadata": {
        "id": "hpoGBtb_zMfB",
        "colab_type": "code",
        "outputId": "13f607d9-48df-48b7-daf9-c68042ce096b",
        "colab": {
          "base_uri": "https://localhost:8080/",
          "height": 89
        }
      },
      "cell_type": "code",
      "source": [
        "#Out of sample\n",
        "from sklearn import linear_model\n",
        "reg = linear_model.RidgeCV(alphas=[0.01, 0.1, 0.5, 1, 3, 5, 7, 10, 20, 100])\n",
        "reg.fit(X_train[features],y_train)"
      ],
      "execution_count": 49,
      "outputs": [
        {
          "output_type": "execute_result",
          "data": {
            "text/plain": [
              "RidgeCV(alphas=array([1.e-02, 1.e-01, 5.e-01, 1.e+00, 3.e+00, 5.e+00, 7.e+00, 1.e+01,\n",
              "       2.e+01, 1.e+02]),\n",
              "    cv=None, fit_intercept=True, gcv_mode=None, normalize=False,\n",
              "    scoring=None, store_cv_values=False)"
            ]
          },
          "metadata": {
            "tags": []
          },
          "execution_count": 49
        }
      ]
    },
    {
      "metadata": {
        "id": "eIXA2-nmZS7x",
        "colab_type": "code",
        "outputId": "3c892de3-3815-4ff9-c669-9eab36adbca4",
        "colab": {
          "base_uri": "https://localhost:8080/",
          "height": 89
        }
      },
      "cell_type": "code",
      "source": [
        "#In sample\n",
        "reg2 = linear_model.RidgeCV(alphas=[0.01, 0.1, 0.5, 1, 3, 5, 7, 10, 20, 100])\n",
        "reg2.fit(X[features],y)"
      ],
      "execution_count": 50,
      "outputs": [
        {
          "output_type": "execute_result",
          "data": {
            "text/plain": [
              "RidgeCV(alphas=array([1.e-02, 1.e-01, 5.e-01, 1.e+00, 3.e+00, 5.e+00, 7.e+00, 1.e+01,\n",
              "       2.e+01, 1.e+02]),\n",
              "    cv=None, fit_intercept=True, gcv_mode=None, normalize=False,\n",
              "    scoring=None, store_cv_values=False)"
            ]
          },
          "metadata": {
            "tags": []
          },
          "execution_count": 50
        }
      ]
    },
    {
      "metadata": {
        "id": "1WM8I7CcZ--4",
        "colab_type": "code",
        "outputId": "6bb04bb8-8111-4810-fdac-82d8113f430a",
        "colab": {
          "base_uri": "https://localhost:8080/",
          "height": 35
        }
      },
      "cell_type": "code",
      "source": [
        "#In sample alpha for L2\n",
        "reg2.alpha_"
      ],
      "execution_count": 51,
      "outputs": [
        {
          "output_type": "execute_result",
          "data": {
            "text/plain": [
              "20.0"
            ]
          },
          "metadata": {
            "tags": []
          },
          "execution_count": 51
        }
      ]
    },
    {
      "metadata": {
        "id": "67moQWrAaDWy",
        "colab_type": "code",
        "outputId": "fdc594e5-0131-4151-de95-7ca58bdad164",
        "colab": {
          "base_uri": "https://localhost:8080/",
          "height": 35
        }
      },
      "cell_type": "code",
      "source": [
        "#In sample r2 for L2\n",
        "r2_score(y, reg2.predict(X[features]))"
      ],
      "execution_count": 52,
      "outputs": [
        {
          "output_type": "execute_result",
          "data": {
            "text/plain": [
              "0.19600855921731986"
            ]
          },
          "metadata": {
            "tags": []
          },
          "execution_count": 52
        }
      ]
    },
    {
      "metadata": {
        "id": "ovON6wTNQqpg",
        "colab_type": "code",
        "outputId": "347ba79f-ec9a-4a78-c6df-cc8573c02a93",
        "colab": {
          "base_uri": "https://localhost:8080/",
          "height": 35
        }
      },
      "cell_type": "code",
      "source": [
        "#Out of sample alpha for L2\n",
        "reg.alpha_"
      ],
      "execution_count": 54,
      "outputs": [
        {
          "output_type": "execute_result",
          "data": {
            "text/plain": [
              "5.0"
            ]
          },
          "metadata": {
            "tags": []
          },
          "execution_count": 54
        }
      ]
    },
    {
      "metadata": {
        "id": "zUBEICRWSu-X",
        "colab_type": "code",
        "outputId": "dd86105d-c96b-4543-e6c7-39653810e917",
        "colab": {
          "base_uri": "https://localhost:8080/",
          "height": 35
        }
      },
      "cell_type": "code",
      "source": [
        "#Out of sample r2 for L2\n",
        "r2_score(y_test, reg.predict(X_test[features]))"
      ],
      "execution_count": 55,
      "outputs": [
        {
          "output_type": "execute_result",
          "data": {
            "text/plain": [
              "0.20047148463976405"
            ]
          },
          "metadata": {
            "tags": []
          },
          "execution_count": 55
        }
      ]
    },
    {
      "metadata": {
        "id": "aRCjpr_0aXA-",
        "colab_type": "code",
        "outputId": "85488f62-9084-467d-c54e-3806c927258a",
        "colab": {
          "base_uri": "https://localhost:8080/",
          "height": 35
        }
      },
      "cell_type": "code",
      "source": [
        "#In sample rmse for L2\n",
        "rmse(reg2.predict(X[features]), y)"
      ],
      "execution_count": 53,
      "outputs": [
        {
          "output_type": "execute_result",
          "data": {
            "text/plain": [
              "125.24980420734492"
            ]
          },
          "metadata": {
            "tags": []
          },
          "execution_count": 53
        }
      ]
    },
    {
      "metadata": {
        "id": "K1y2bw_70Pue",
        "colab_type": "code",
        "outputId": "feebf363-b3db-404b-f3a5-c18e1d68e678",
        "colab": {
          "base_uri": "https://localhost:8080/",
          "height": 35
        }
      },
      "cell_type": "code",
      "source": [
        "#Out of sample rmse for L2\n",
        "rmse_training2 = rmse(reg.predict(X_train[features]), y_train)\n",
        "rmse_testing2 = rmse(reg.predict(X_test[features]), y_test)\n",
        "\n",
        "print(\"training rmse: {}, testing rmse: {}\".format(rmse_training2, rmse_testing2))"
      ],
      "execution_count": 56,
      "outputs": [
        {
          "output_type": "stream",
          "text": [
            "training rmse: 123.65671445833675, testing rmse: 132.18667824998622\n"
          ],
          "name": "stdout"
        }
      ]
    },
    {
      "metadata": {
        "id": "HRD8eupR26nC",
        "colab_type": "code",
        "outputId": "2ffe6c51-d15e-410d-c90d-3fb1f0737bf7",
        "colab": {
          "base_uri": "https://localhost:8080/",
          "height": 35
        }
      },
      "cell_type": "code",
      "source": [
        "#Out of sample MAE for L2\n",
        "mean_absolute_error(y_test, reg.predict(X_test[features]))"
      ],
      "execution_count": 57,
      "outputs": [
        {
          "output_type": "execute_result",
          "data": {
            "text/plain": [
              "43.22485302165763"
            ]
          },
          "metadata": {
            "tags": []
          },
          "execution_count": 57
        }
      ]
    },
    {
      "metadata": {
        "id": "2L8zDxLPF52c",
        "colab_type": "code",
        "outputId": "3319c83d-7201-4e9f-b119-2820bf37abb4",
        "colab": {
          "base_uri": "https://localhost:8080/",
          "height": 35
        }
      },
      "cell_type": "code",
      "source": [
        "#Out of sample accuracy for L2\n",
        "accuracy(y_test, reg.predict(X_test[features]))"
      ],
      "execution_count": 58,
      "outputs": [
        {
          "output_type": "stream",
          "text": [
            "Accuracy: 62.57 %.\n"
          ],
          "name": "stdout"
        }
      ]
    },
    {
      "metadata": {
        "id": "DBSgBBBA1Qp1",
        "colab_type": "code",
        "outputId": "f170ffd9-a437-40e4-c3c4-83ee2c7fb8d2",
        "colab": {
          "base_uri": "https://localhost:8080/",
          "height": 395
        }
      },
      "cell_type": "code",
      "source": [
        "print(reg.coef_)"
      ],
      "execution_count": 59,
      "outputs": [
        {
          "output_type": "stream",
          "text": [
            "[ 3.99021092e-01 -1.72806810e-01 -8.79639470e-01 -1.33430172e-01\n",
            "  2.09257388e-01 -3.50226606e+00  2.74100228e+01  3.76364687e+01\n",
            "  2.03277482e-01  5.17333558e+00  1.06975451e+00  8.16416710e+00\n",
            " -1.91682631e+01 -9.05055791e+00 -3.03749466e+01  3.18837188e+00\n",
            " -6.05905243e+00 -2.62002531e+01 -4.17832288e-02  8.13490040e+00\n",
            " -2.35984087e+01 -2.15080708e+01 -2.66142529e+01 -4.67392379e+01\n",
            " -4.15167966e+01 -9.79311752e+00 -2.64245779e+01 -3.42757098e+01\n",
            "  5.63137289e+00 -1.16810941e+01 -1.00805872e+01 -1.06218188e+01\n",
            " -4.36618309e+01 -5.29563900e+01 -5.17073606e+00  3.54254606e+01\n",
            " -6.61924706e+00  1.45395136e+01  3.75065938e+01 -2.88113032e+01\n",
            "  6.83418499e+00 -2.60401620e+00 -2.05873983e+01 -6.85541353e+00\n",
            " -2.40356342e-01  1.72983516e+01  3.28173538e+00 -6.89247268e+00\n",
            " -3.74626751e+00  1.32322969e+01 -3.04988209e+01 -7.20755633e+00\n",
            "  9.87404096e+00  4.41819094e+01  3.04227018e+01 -2.80772768e+00\n",
            " -6.61383840e+00  2.75635930e+01  0.00000000e+00  5.87401763e-01\n",
            "  1.85511455e+01  3.50539114e+01 -1.45738339e+01  7.50297485e+00\n",
            " -1.88427712e+01  1.47906148e+01  1.00900947e+00  2.52283467e+00\n",
            "  5.04138081e+00  2.35068911e+01 -2.71824135e+00 -1.42898880e+00\n",
            " -8.08355995e+00 -1.66483667e+01  1.71203001e+01  0.00000000e+00\n",
            " -9.19824385e+00 -9.19749220e+00 -2.65282996e+00 -1.96882995e+01\n",
            " -2.09899181e+01]\n"
          ],
          "name": "stdout"
        }
      ]
    },
    {
      "metadata": {
        "id": "VaamzzPo2na_",
        "colab_type": "code",
        "outputId": "b8118cb1-ad14-41f9-c7c3-6930b4b54c0c",
        "colab": {
          "base_uri": "https://localhost:8080/",
          "height": 145
        }
      },
      "cell_type": "code",
      "source": [
        "#Out of sample for L1\n",
        "from sklearn import linear_model\n",
        "lasso = linear_model.LassoCV(alphas=[0.01, 0.1, 0.5, 1, 3, 5, 7, 10, 20, 100])\n",
        "lasso.fit(X_train[features], y_train)"
      ],
      "execution_count": 60,
      "outputs": [
        {
          "output_type": "stream",
          "text": [
            "/usr/local/lib/python3.6/dist-packages/sklearn/model_selection/_split.py:2053: FutureWarning: You should specify a value for 'cv' instead of relying on the default value. The default value will change from 3 to 5 in version 0.22.\n",
            "  warnings.warn(CV_WARNING, FutureWarning)\n"
          ],
          "name": "stderr"
        },
        {
          "output_type": "execute_result",
          "data": {
            "text/plain": [
              "LassoCV(alphas=[0.01, 0.1, 0.5, 1, 3, 5, 7, 10, 20, 100], copy_X=True,\n",
              "    cv='warn', eps=0.001, fit_intercept=True, max_iter=1000, n_alphas=100,\n",
              "    n_jobs=None, normalize=False, positive=False, precompute='auto',\n",
              "    random_state=None, selection='cyclic', tol=0.0001, verbose=False)"
            ]
          },
          "metadata": {
            "tags": []
          },
          "execution_count": 60
        }
      ]
    },
    {
      "metadata": {
        "id": "_Vomhhue22Ix",
        "colab_type": "code",
        "outputId": "3e85d87d-f597-4c16-ddd6-afa96746bbc3",
        "colab": {
          "base_uri": "https://localhost:8080/",
          "height": 35
        }
      },
      "cell_type": "code",
      "source": [
        "#Out of sample r2 for L1\n",
        "r2_score(y_test, lasso.predict(X_test[features]))"
      ],
      "execution_count": 61,
      "outputs": [
        {
          "output_type": "execute_result",
          "data": {
            "text/plain": [
              "0.20095129539958567"
            ]
          },
          "metadata": {
            "tags": []
          },
          "execution_count": 61
        }
      ]
    },
    {
      "metadata": {
        "id": "3qG-YWw3br59",
        "colab_type": "code",
        "outputId": "b60589ea-d94e-4dba-8abd-eee84efa10cf",
        "colab": {
          "base_uri": "https://localhost:8080/",
          "height": 35
        }
      },
      "cell_type": "code",
      "source": [
        "#Out of sample alpha for L1\n",
        "lasso.alpha_"
      ],
      "execution_count": 62,
      "outputs": [
        {
          "output_type": "execute_result",
          "data": {
            "text/plain": [
              "0.01"
            ]
          },
          "metadata": {
            "tags": []
          },
          "execution_count": 62
        }
      ]
    },
    {
      "metadata": {
        "id": "NH81zbTu29XM",
        "colab_type": "code",
        "outputId": "3506daba-e494-4773-d41c-04f7e8c78a9f",
        "colab": {
          "base_uri": "https://localhost:8080/",
          "height": 35
        }
      },
      "cell_type": "code",
      "source": [
        "#Out of sample rmse for L1\n",
        "rmse_training3 = rmse(lasso.predict(X_train[features]), y_train)\n",
        "rmse_testing3 = rmse(lasso.predict(X_test[features]), y_test)\n",
        "\n",
        "print(\"training rmse: {}, testing rmse: {}\".format(rmse_training3, rmse_testing3))"
      ],
      "execution_count": 65,
      "outputs": [
        {
          "output_type": "stream",
          "text": [
            "training rmse: 123.65368242408859, testing rmse: 132.1470085523377\n"
          ],
          "name": "stdout"
        }
      ]
    },
    {
      "metadata": {
        "id": "FEvcb_Cs3Odo",
        "colab_type": "code",
        "outputId": "03dd9090-3215-4272-bc51-c32a2f54074e",
        "colab": {
          "base_uri": "https://localhost:8080/",
          "height": 35
        }
      },
      "cell_type": "code",
      "source": [
        "#Out of sample MAE for L1\n",
        "mean_absolute_error(y_test,lasso.predict(X_test[features]))"
      ],
      "execution_count": 66,
      "outputs": [
        {
          "output_type": "execute_result",
          "data": {
            "text/plain": [
              "43.2095050488276"
            ]
          },
          "metadata": {
            "tags": []
          },
          "execution_count": 66
        }
      ]
    },
    {
      "metadata": {
        "id": "Je2UuIHrGUEv",
        "colab_type": "code",
        "outputId": "1605ef11-a2ee-4954-dad4-af5b69722cda",
        "colab": {
          "base_uri": "https://localhost:8080/",
          "height": 35
        }
      },
      "cell_type": "code",
      "source": [
        "#Out of sample accuracy for L1\n",
        "accuracy(y_test, lasso.predict(X_test[features]))"
      ],
      "execution_count": 67,
      "outputs": [
        {
          "output_type": "stream",
          "text": [
            "Accuracy: 62.59 %.\n"
          ],
          "name": "stdout"
        }
      ]
    },
    {
      "metadata": {
        "id": "2E45fryvcdCf",
        "colab_type": "code",
        "outputId": "67f6d081-33d9-464d-93de-07eda9349dd7",
        "colab": {
          "base_uri": "https://localhost:8080/",
          "height": 145
        }
      },
      "cell_type": "code",
      "source": [
        "#In sample for L1 \n",
        "lasso2 = linear_model.LassoCV(alphas=[0.01, 0.1, 0.5, 1, 3, 5, 7, 10, 20, 100])\n",
        "lasso2.fit(X[features],y)"
      ],
      "execution_count": 68,
      "outputs": [
        {
          "output_type": "stream",
          "text": [
            "/usr/local/lib/python3.6/dist-packages/sklearn/model_selection/_split.py:2053: FutureWarning: You should specify a value for 'cv' instead of relying on the default value. The default value will change from 3 to 5 in version 0.22.\n",
            "  warnings.warn(CV_WARNING, FutureWarning)\n"
          ],
          "name": "stderr"
        },
        {
          "output_type": "execute_result",
          "data": {
            "text/plain": [
              "LassoCV(alphas=[0.01, 0.1, 0.5, 1, 3, 5, 7, 10, 20, 100], copy_X=True,\n",
              "    cv='warn', eps=0.001, fit_intercept=True, max_iter=1000, n_alphas=100,\n",
              "    n_jobs=None, normalize=False, positive=False, precompute='auto',\n",
              "    random_state=None, selection='cyclic', tol=0.0001, verbose=False)"
            ]
          },
          "metadata": {
            "tags": []
          },
          "execution_count": 68
        }
      ]
    },
    {
      "metadata": {
        "id": "rZS-z_1FceKy",
        "colab_type": "code",
        "outputId": "789d5da7-c430-4bdb-d965-38367d24a13d",
        "colab": {
          "base_uri": "https://localhost:8080/",
          "height": 35
        }
      },
      "cell_type": "code",
      "source": [
        "#In sample r2 for L1\n",
        "r2_score(y, lasso2.predict(X[features]))"
      ],
      "execution_count": 69,
      "outputs": [
        {
          "output_type": "execute_result",
          "data": {
            "text/plain": [
              "0.19384858405462124"
            ]
          },
          "metadata": {
            "tags": []
          },
          "execution_count": 69
        }
      ]
    },
    {
      "metadata": {
        "id": "pUQfjr15cu9O",
        "colab_type": "code",
        "outputId": "fae47736-3509-4dd2-a48a-d108512acf7e",
        "colab": {
          "base_uri": "https://localhost:8080/",
          "height": 35
        }
      },
      "cell_type": "code",
      "source": [
        "#In sample alpha for L1\n",
        "lasso2.alpha_"
      ],
      "execution_count": 70,
      "outputs": [
        {
          "output_type": "execute_result",
          "data": {
            "text/plain": [
              "0.1"
            ]
          },
          "metadata": {
            "tags": []
          },
          "execution_count": 70
        }
      ]
    },
    {
      "metadata": {
        "id": "jAuj-t8pdHkO",
        "colab_type": "code",
        "outputId": "0289ff37-7038-4f1a-d6c8-22db9c41093b",
        "colab": {
          "base_uri": "https://localhost:8080/",
          "height": 35
        }
      },
      "cell_type": "code",
      "source": [
        "#In sample rmse for L1\n",
        "rmse(lasso2.predict(X[features]), y)"
      ],
      "execution_count": 71,
      "outputs": [
        {
          "output_type": "execute_result",
          "data": {
            "text/plain": [
              "125.41793722016988"
            ]
          },
          "metadata": {
            "tags": []
          },
          "execution_count": 71
        }
      ]
    },
    {
      "metadata": {
        "id": "nncws-gE3n8G",
        "colab_type": "code",
        "outputId": "8009641e-26a5-49ac-fdf9-979aea4db829",
        "colab": {
          "base_uri": "https://localhost:8080/",
          "height": 323
        }
      },
      "cell_type": "code",
      "source": [
        "print(lasso.coef_)"
      ],
      "execution_count": 72,
      "outputs": [
        {
          "output_type": "stream",
          "text": [
            "[  0.39934927  -0.17297348  -0.87289989  -0.13371269   0.20905059\n",
            "  -3.56887546  27.39355814  37.66484505   0.20196683   5.15865067\n",
            "   1.04524737  -0.         -26.091742    -8.823768   -30.78319561\n",
            "   2.88950758  -6.13974333 -27.07636164  -0.           7.70041297\n",
            " -34.19675797 -21.05895994 -28.93963646 -47.92877779 -42.18667104\n",
            " -10.06405994 -26.4811187  -34.54991487   5.17811395 -11.30322751\n",
            " -10.61268335 -10.75751711 -43.89719117 -56.59500815  -0.\n",
            "  89.29985787  -6.04999525  14.46929519  40.36934114 -32.20162722\n",
            "   0.          -0.          -9.64975499  -0.          -0.\n",
            "  12.36311139   0.          -0.          -2.42819564  10.9326732\n",
            " -39.73420312  -0.           9.88671934  45.03869811  30.61674038\n",
            "  -0.          -2.45896015  28.23521213   0.           0.\n",
            "  18.55916671  37.47794279  -2.81903014   6.97384739 -10.31546871\n",
            "  14.04382048   0.           1.97317173   3.95377861  22.65241842\n",
            "  -2.87874458  -0.          -1.97412675  -7.95295034  16.63378198\n",
            "   0.          -0.          -3.61929839   0.         -15.7952886\n",
            " -17.09525615]\n"
          ],
          "name": "stdout"
        }
      ]
    },
    {
      "metadata": {
        "id": "pwq6pSq8dHg2",
        "colab_type": "code",
        "colab": {}
      },
      "cell_type": "code",
      "source": [
        "import tensorflow as tf"
      ],
      "execution_count": 0,
      "outputs": []
    },
    {
      "metadata": {
        "id": "lUPVQy83hP9P",
        "colab_type": "code",
        "colab": {}
      },
      "cell_type": "code",
      "source": [
        "lm_coef = []\n",
        "for i in coef:\n",
        "  lm_coef.append([i])\n",
        "new_coef = tf.convert_to_tensor(np.float32(lm_coef))\n",
        "W = tf.Variable(new_coef,dtype=tf.float32)\n",
        "#W = tf.Variable(tf.zeros([7,1]),dtype=tf.float32)\n",
        "X_train_st = np.float32(X_train_std)\n",
        "b = tf.Variable(tf.zeros([1, 1]),dtype=tf.float32)\n",
        "y_new = tf.matmul(X_train_st, W) + b\n"
      ],
      "execution_count": 0,
      "outputs": []
    },
    {
      "metadata": {
        "id": "Y00KiesRqBPv",
        "colab_type": "code",
        "colab": {}
      },
      "cell_type": "code",
      "source": [
        "loss = tf.reduce_mean(tf.square(y_new - y_train.values.reshape(-1, 1)))\n",
        "optimizer = tf.train.GradientDescentOptimizer(0.3)\n",
        "train = optimizer.minimize(loss)\n",
        "\n",
        "init = tf.initialize_all_variables()\n",
        "\n",
        "\n",
        "sess = tf.Session()\n",
        "sess.run(init)\n",
        "for step in range(3000):\n",
        "    sess.run(train)\n",
        "    #if step % 10 == 0:\n",
        "        #print(step, sess.run(W).flatten(), sess.run(b).flatten())"
      ],
      "execution_count": 0,
      "outputs": []
    },
    {
      "metadata": {
        "id": "HR5s74Of22eG",
        "colab_type": "code",
        "outputId": "33fa2cf6-99b2-49fb-d012-c6e4504781af",
        "colab": {
          "base_uri": "https://localhost:8080/",
          "height": 1511
        }
      },
      "cell_type": "code",
      "source": [
        "print(np.nan_to_num(sess.run(W)))\n",
        "print(np.nan_to_num(sess.run(b)))\n",
        "print(np.nan_to_num(sess.run(loss)))"
      ],
      "execution_count": 100,
      "outputs": [
        {
          "output_type": "stream",
          "text": [
            "[[ 5.6043916e+00]\n",
            " [-8.0837736e+00]\n",
            " [-1.0546679e+00]\n",
            " [-3.1037850e+00]\n",
            " [ 2.0974939e+01]\n",
            " [-3.1018248e+00]\n",
            " [ 3.4515255e+01]\n",
            " [ 1.3453527e+01]\n",
            " [ 1.2594804e+00]\n",
            " [ 1.3932893e+01]\n",
            " [ 4.6412778e+00]\n",
            " [ 1.6396787e+00]\n",
            " [-1.0404716e+00]\n",
            " [-3.0224676e+00]\n",
            " [-3.5020466e+00]\n",
            " [-5.1363075e-01]\n",
            " [-3.4922874e+00]\n",
            " [-2.7345238e+00]\n",
            " [-1.4922837e+00]\n",
            " [ 1.2169952e+00]\n",
            " [-6.9302619e-01]\n",
            " [-2.5332947e+00]\n",
            " [-5.0187044e+00]\n",
            " [-6.0477400e+00]\n",
            " [-5.9028945e+00]\n",
            " [-3.3032691e+00]\n",
            " [-2.7380474e+00]\n",
            " [-6.7708621e+00]\n",
            " [ 2.3819491e-01]\n",
            " [-2.0105515e+00]\n",
            " [-2.3685312e+00]\n",
            " [-4.2040992e+00]\n",
            " [-1.7517466e+01]\n",
            " [-3.3615029e+00]\n",
            " [-2.1572456e-01]\n",
            " [ 1.9492134e+00]\n",
            " [-9.8754138e-01]\n",
            " [ 2.0751173e+00]\n",
            " [ 1.9950793e+00]\n",
            " [-1.1608423e+00]\n",
            " [ 3.1011036e-01]\n",
            " [-1.3882740e-01]\n",
            " [-9.1288042e-01]\n",
            " [-2.7234522e-01]\n",
            " [ 1.5721131e-02]\n",
            " [ 7.5674599e-01]\n",
            " [ 1.8015590e-01]\n",
            " [-3.7170997e-01]\n",
            " [-3.0352521e-01]\n",
            " [ 8.5969663e-01]\n",
            " [-1.2570806e+00]\n",
            " [-3.0085757e-01]\n",
            " [ 2.7872047e+00]\n",
            " [ 4.9803886e+00]\n",
            " [ 4.3605394e+00]\n",
            " [-1.2898156e-01]\n",
            " [-3.2453072e-01]\n",
            " [ 1.5045260e+00]\n",
            " [ 9.9475983e-14]\n",
            " [ 2.5177738e-02]\n",
            " [ 3.4571815e+00]\n",
            " [ 1.8737149e+00]\n",
            " [-3.1966719e-01]\n",
            " [ 1.1996716e+01]\n",
            " [-6.1546099e-01]\n",
            " [ 2.1424248e+01]\n",
            " [ 1.0228178e+01]\n",
            " [ 1.1460818e+01]\n",
            " [ 1.1848674e+01]\n",
            " [ 1.0739774e+01]\n",
            " [ 2.9228806e+00]\n",
            " [ 4.4149165e+00]\n",
            " [ 1.0272295e+00]\n",
            " [-3.1590205e-01]\n",
            " [ 1.1626018e+01]\n",
            " [-5.6843419e-14]\n",
            " [-9.6843354e-02]\n",
            " [-4.0717998e+00]\n",
            " [-4.3221903e+00]\n",
            " [-6.8847027e+00]\n",
            " [-1.0422097e+01]]\n",
            "[[148.09476]]\n",
            "15284.082\n"
          ],
          "name": "stdout"
        }
      ]
    },
    {
      "metadata": {
        "id": "KOU1uw7M4kA0",
        "colab_type": "code",
        "outputId": "0038771d-8e64-4193-f1e1-df341ba5abda",
        "colab": {
          "base_uri": "https://localhost:8080/",
          "height": 35
        }
      },
      "cell_type": "code",
      "source": [
        "np.sqrt(15284.082)"
      ],
      "execution_count": 101,
      "outputs": [
        {
          "output_type": "execute_result",
          "data": {
            "text/plain": [
              "123.6288073225654"
            ]
          },
          "metadata": {
            "tags": []
          },
          "execution_count": 101
        }
      ]
    },
    {
      "metadata": {
        "id": "r6sv9H_V5uhW",
        "colab_type": "code",
        "outputId": "35bfeeac-e934-408b-9e05-e23b396b446b",
        "colab": {
          "base_uri": "https://localhost:8080/",
          "height": 35
        }
      },
      "cell_type": "code",
      "source": [
        "#NN\n",
        "from keras.models import Sequential\n",
        "from keras.layers import Dense\n",
        "from keras.wrappers.scikit_learn import KerasRegressor\n",
        "from sklearn.model_selection import cross_val_score\n",
        "from sklearn.model_selection import KFold\n",
        "from sklearn.preprocessing import StandardScaler\n",
        "from sklearn.pipeline import Pipeline"
      ],
      "execution_count": 78,
      "outputs": [
        {
          "output_type": "stream",
          "text": [
            "Using TensorFlow backend.\n"
          ],
          "name": "stderr"
        }
      ]
    },
    {
      "metadata": {
        "id": "Q04SG3zZ6f81",
        "colab_type": "code",
        "colab": {}
      },
      "cell_type": "code",
      "source": [
        "def baseline_model():\n",
        "\t# create model\n",
        "\tmodel = Sequential()\n",
        "\tmodel.add(Dense(200,input_dim=len(features), kernel_initializer='normal', activation='linear'))\n",
        "\tmodel.add(Dense(1, kernel_initializer='normal'))\n",
        "  #model.add(Dense(1, activation='linear'))\n",
        "\t# Compile model\n",
        "\tmodel.compile(loss='mean_squared_error', optimizer='adam')\n",
        "\treturn model"
      ],
      "execution_count": 0,
      "outputs": []
    },
    {
      "metadata": {
        "id": "Lzb9Q_EF72It",
        "colab_type": "code",
        "colab": {}
      },
      "cell_type": "code",
      "source": [
        "#Out of sample for NN\n",
        "seed = 7\n",
        "np.random.seed(seed)\n",
        "# evaluate model with standardized dataset\n",
        "estimator = KerasRegressor(build_fn=baseline_model, nb_epoch=150, batch_size=100, verbose=False)\n",
        "#kfold = KFold(n_splits=10, random_state=seed)\n",
        "#results = cross_val_score(estimator, X_train_std, y_train, cv=kfold)"
      ],
      "execution_count": 0,
      "outputs": []
    },
    {
      "metadata": {
        "id": "Xb_ACuZkko2r",
        "colab_type": "code",
        "outputId": "4caedd3f-f51b-4507-df35-d31ec559044a",
        "colab": {
          "base_uri": "https://localhost:8080/",
          "height": 35
        }
      },
      "cell_type": "code",
      "source": [
        "#In sample for NN\n",
        "estimator2 = KerasRegressor(build_fn=baseline_model, nb_epoch=150, batch_size=100, verbose=False)\n",
        "estimator2.fit(X[features], y)"
      ],
      "execution_count": 103,
      "outputs": [
        {
          "output_type": "execute_result",
          "data": {
            "text/plain": [
              "<keras.callbacks.History at 0x7fe67ed3e780>"
            ]
          },
          "metadata": {
            "tags": []
          },
          "execution_count": 103
        }
      ]
    },
    {
      "metadata": {
        "id": "hSh-W3zxk3W1",
        "colab_type": "code",
        "outputId": "1ec54b39-da85-4f0d-b662-285b97972d04",
        "colab": {
          "base_uri": "https://localhost:8080/",
          "height": 35
        }
      },
      "cell_type": "code",
      "source": [
        "#In sample r2 for NN\n",
        "r2_score(y, estimator2.predict(X[features]))"
      ],
      "execution_count": 104,
      "outputs": [
        {
          "output_type": "execute_result",
          "data": {
            "text/plain": [
              "0.05293863924854436"
            ]
          },
          "metadata": {
            "tags": []
          },
          "execution_count": 104
        }
      ]
    },
    {
      "metadata": {
        "id": "CTdmQXs1k-vB",
        "colab_type": "code",
        "outputId": "d2a11599-7874-4312-fb1d-d564c463d84a",
        "colab": {
          "base_uri": "https://localhost:8080/",
          "height": 35
        }
      },
      "cell_type": "code",
      "source": [
        "#In sample rmse for NN\n",
        "rmse(estimator2.predict(X[features]), y)"
      ],
      "execution_count": 105,
      "outputs": [
        {
          "output_type": "execute_result",
          "data": {
            "text/plain": [
              "135.93796695322098"
            ]
          },
          "metadata": {
            "tags": []
          },
          "execution_count": 105
        }
      ]
    },
    {
      "metadata": {
        "id": "bx2QHUibGPII",
        "colab_type": "code",
        "outputId": "e214b6ce-af17-475d-e288-2cc0830f885a",
        "colab": {
          "base_uri": "https://localhost:8080/",
          "height": 109
        }
      },
      "cell_type": "code",
      "source": [
        "estimator.fit(X_train[features], y_train)"
      ],
      "execution_count": 83,
      "outputs": [
        {
          "output_type": "stream",
          "text": [
            "WARNING:tensorflow:From /usr/local/lib/python3.6/dist-packages/tensorflow/python/ops/math_ops.py:3066: to_int32 (from tensorflow.python.ops.math_ops) is deprecated and will be removed in a future version.\n",
            "Instructions for updating:\n",
            "Use tf.cast instead.\n"
          ],
          "name": "stdout"
        },
        {
          "output_type": "execute_result",
          "data": {
            "text/plain": [
              "<keras.callbacks.History at 0x7fe684290550>"
            ]
          },
          "metadata": {
            "tags": []
          },
          "execution_count": 83
        }
      ]
    },
    {
      "metadata": {
        "id": "0rqwj5z6GYxM",
        "colab_type": "code",
        "colab": {}
      },
      "cell_type": "code",
      "source": [
        "#Out of sample rmse for NN\n",
        "rmse_training4 = rmse(estimator.predict(X_train[features]), y_train)\n",
        "rmse_testing4 = rmse(estimator.predict(X_test[features]), y_test)"
      ],
      "execution_count": 0,
      "outputs": []
    },
    {
      "metadata": {
        "id": "9zp8dg8oGkbS",
        "colab_type": "code",
        "outputId": "62e3b68b-9eed-474b-8f5c-4c6244c7a68c",
        "colab": {
          "base_uri": "https://localhost:8080/",
          "height": 35
        }
      },
      "cell_type": "code",
      "source": [
        "print(\"training rmse: {}, testing rmse: {}\".format(rmse_training4, rmse_testing4))"
      ],
      "execution_count": 87,
      "outputs": [
        {
          "output_type": "stream",
          "text": [
            "training rmse: 134.20900357511414, testing rmse: 143.8727625657271\n"
          ],
          "name": "stdout"
        }
      ]
    },
    {
      "metadata": {
        "id": "ZJtn0EI_HHez",
        "colab_type": "code",
        "outputId": "17e2d2e4-afc0-4dfe-faa7-4215b369d4d0",
        "colab": {
          "base_uri": "https://localhost:8080/",
          "height": 35
        }
      },
      "cell_type": "code",
      "source": [
        "#Out of sample r2 for NN\n",
        "r2_score(y_test, estimator.predict(X_test[features]))"
      ],
      "execution_count": 88,
      "outputs": [
        {
          "output_type": "execute_result",
          "data": {
            "text/plain": [
              "0.05285658401675508"
            ]
          },
          "metadata": {
            "tags": []
          },
          "execution_count": 88
        }
      ]
    },
    {
      "metadata": {
        "id": "tHZ87WhIJ8EZ",
        "colab_type": "code",
        "outputId": "28b5f514-6856-415d-896d-8660e8660024",
        "colab": {
          "base_uri": "https://localhost:8080/",
          "height": 35
        }
      },
      "cell_type": "code",
      "source": [
        "#Out of sample MAE for NN\n",
        "mean_absolute_error(y_test, estimator.predict(X_test[features]))"
      ],
      "execution_count": 89,
      "outputs": [
        {
          "output_type": "execute_result",
          "data": {
            "text/plain": [
              "59.34617190337634"
            ]
          },
          "metadata": {
            "tags": []
          },
          "execution_count": 89
        }
      ]
    },
    {
      "metadata": {
        "id": "JV1Yo_KwKIZW",
        "colab_type": "code",
        "outputId": "950bcd1f-ce74-4757-be72-de6c8bbd0926",
        "colab": {
          "base_uri": "https://localhost:8080/",
          "height": 35
        }
      },
      "cell_type": "code",
      "source": [
        "#Out of sample accuracy for NN\n",
        "accuracy(y_test, estimator.predict(X_test[features]))"
      ],
      "execution_count": 90,
      "outputs": [
        {
          "output_type": "stream",
          "text": [
            "Accuracy: 48.61 %.\n"
          ],
          "name": "stdout"
        }
      ]
    }
  ]
}